{
 "cells": [
  {
   "cell_type": "code",
   "execution_count": 3,
   "metadata": {
    "collapsed": true
   },
   "outputs": [],
   "source": [
    "%matplotlib inline\n",
    "\n",
    "from modsim import *\n",
    "import math"
   ]
  },
  {
   "cell_type": "markdown",
   "metadata": {},
   "source": [
    "Time to set the intial conditions; this sets up all the parameters for the rocket, its engine, and the environment it's in.  "
   ]
  },
  {
   "cell_type": "code",
   "execution_count": 4,
   "metadata": {
    "collapsed": true
   },
   "outputs": [],
   "source": [
    "# Set initial conditions.  These conditions will be used in make_system to generate a system.\n",
    "\n",
    "condition = Condition(# Set cap for simulation time\n",
    "                      duration=105, #*s,\n",
    "                      \n",
    "                      # -----------------------------------------\n",
    "                      # Initial state and environmental properties\n",
    "                      # -----------------------------------------\n",
    "                      y=0, #*m, \n",
    "                      g=9.8, #*m/s**2,\n",
    "                      velocity=0, #*m/s,\n",
    "                      rho_air=1.2, #*kg/m**3,\n",
    "                      \n",
    "                      # -----------------------------------------\n",
    "                      # Properties of the rocket body\n",
    "                      # -----------------------------------------\n",
    "                      m_rocket=50, #*gm,\n",
    "                      diameter=4, #*cm, \n",
    "                      C_d=0.6, \n",
    "                      thetaCone=75,\n",
    "                      \n",
    "                      # -----------------------------------------\n",
    "                      # Properties of the engine and exhaust\n",
    "                      # -----------------------------------------\n",
    "                      m_engine=52.0159, #*gm,\n",
    "                      v_exhaust=5000, # * m/s,\n",
    "                      rho_fuel=1.6426, #*gm/cm**3,\n",
    "                      engineSA=4.5234, #*cm**2,\n",
    "                      burnRate=0.3, #*cm/s,   THIS USED TO READ 1 (mm) which I think was wrong\n",
    "                      \n",
    "                      )\n",
    "\n",
    "# Set initial conditions.  These conditions will be used in make_system to generate a system.\n",
    "\n",
    "condition2 = Condition(# Set cap for simulation time\n",
    "                      duration=105, #*s,\n",
    "                      \n",
    "                      # -----------------------------------------\n",
    "                      # Initial state and environmental properties\n",
    "                      # -----------------------------------------\n",
    "                      y=0, #*m, \n",
    "                      g=9.8, #*m/s**2,\n",
    "                      velocity=0, #*m/s,\n",
    "                      rho_air=1.2, #*kg/m**3,\n",
    "                      \n",
    "                      # -----------------------------------------\n",
    "                      # Properties of the rocket body\n",
    "                      # -----------------------------------------\n",
    "                      m_rocket=50, #*gm,\n",
    "                      diameter=4, #*cm, \n",
    "                      C_d=0.8, \n",
    "                      thetaCone=75,\n",
    "                      \n",
    "                      # -----------------------------------------\n",
    "                      # Properties of the engine and exhaust\n",
    "                      # -----------------------------------------\n",
    "                      m_engine=0, #*gm,\n",
    "                      v_exhaust=5000, # * m/s,\n",
    "                      rho_fuel=1.6426, #*gm/cm**3,\n",
    "                      engineSA=4.5234, #*cm**2,\n",
    "                      burnRate=0.1, #*cm/s,   THIS USED TO READ 1 (mm) which I think was wrong\n",
    "                      \n",
    "                      )"
   ]
  },
  {
   "cell_type": "markdown",
   "metadata": {},
   "source": [
    "Let's define a function to make systems for us.  This needs to copy certain parameters from the initial Condition object to the system and calculate the surface area of the rocket that will need to be accounted for in the drag calculation."
   ]
  },
  {
   "cell_type": "code",
   "execution_count": 5,
   "metadata": {
    "collapsed": true
   },
   "outputs": [],
   "source": [
    "# Takes in an initial condition and generates a full system\n",
    "\n",
    "def make_system(condition):\n",
    "    \n",
    "    unpack(condition)\n",
    "    \n",
    "    vy = velocity\n",
    "    init = State(m_engine=m_engine,y=y,vy=vy)\n",
    "    \n",
    "    r = diameter/2\n",
    "    h = r*math.tan(thetaCone)\n",
    "    coneSA = 3.14159 * r * (r + sqrt(r*r + h*h))\n",
    "    coneSA = 2\n",
    "    \n",
    "    ts = linspace(0,duration,101)\n",
    "    \n",
    "    return System(init=init,\n",
    "                  g=g,\n",
    "                  rho_air=rho_air,\n",
    "                  C_d=C_d,\n",
    "                  engineSA=engineSA,\n",
    "                  m_engine=m_engine,\n",
    "                  m_rocket=m_rocket,\n",
    "                  rho_fuel=rho_fuel,\n",
    "                  burnRate=burnRate,\n",
    "                  ts=ts,\n",
    "                  coneSA=coneSA,\n",
    "                  v_exhaust=v_exhaust)"
   ]
  },
  {
   "cell_type": "code",
   "execution_count": 6,
   "metadata": {
    "collapsed": true
   },
   "outputs": [],
   "source": [
    "# Takes in an initial condition and generates a full system\n",
    "\n",
    "def make_system2(condition2, t0):\n",
    "    \n",
    "    unpack(condition2)\n",
    "    vy = velocity\n",
    "    #init = State(m_engine=m_engine,y=y,vy=vy)\n",
    "    \n",
    "    r = diameter/2\n",
    "    h = r*math.tan(thetaCone)\n",
    "    coneSA = 3.14159 * r * (r + sqrt(r*r + h*h))\n",
    "    coneSA = 2\n",
    "    \n",
    "    ts = linspace(t0,duration,101)\n",
    "    \n",
    "    return System(init=condition2.init,\n",
    "                  g=g,\n",
    "                  rho_air=rho_air,\n",
    "                  C_d=C_d,\n",
    "                  engineSA=engineSA,\n",
    "                  m_engine=0,\n",
    "                  m_rocket=m_rocket,\n",
    "                  ts=ts,\n",
    "                  coneSA=coneSA)"
   ]
  },
  {
   "cell_type": "code",
   "execution_count": 7,
   "metadata": {
    "collapsed": true
   },
   "outputs": [],
   "source": [
    "# Run this function UNTIL THE ENGINE RUNS OUT OF FUEL\n",
    "\n",
    "def slope_func1(state,t,system):\n",
    "    \n",
    "    unpack(system)\n",
    "        \n",
    "    # Grab the initial state of everything\n",
    "    m_engine, y, vy = state\n",
    "    \n",
    "    # Calculate m_dot\n",
    "    m_dot = -1 * rho_fuel * engineSA * burnRate\n",
    "    \n",
    "    m = m_rocket + m_engine\n",
    "    \n",
    "    # Calculate the acceleration due to drag\n",
    "    f_drag = rho_air * C_d * vy*vy * coneSA / 2\n",
    "    a_drag = f_drag / m\n",
    "    \n",
    "    ay = (v_exhaust * -1 * m_dot) / m - g - a_drag\n",
    "    \n",
    "    \n",
    "    #if m_engine < 0:\n",
    "        #print(\"Engine mass \" + str(m_engine) + \" at time \" + str(t))\n",
    "            \n",
    "    return m_dot, vy, ay"
   ]
  },
  {
   "cell_type": "code",
   "execution_count": 8,
   "metadata": {
    "collapsed": true
   },
   "outputs": [],
   "source": [
    "# Run this function AFTER THE ENGINE RUNS OUT OF FUEL\n",
    "\n",
    "def slope_func2(state,t,system):\n",
    "    \n",
    "    unpack(system)\n",
    "    \n",
    "    # Grab the initial state of everything\n",
    "    m_engine, y, vy = state\n",
    "    \n",
    "    m = m_rocket\n",
    "    \n",
    "    # Calculate the acceleration due to drag\n",
    "    f_drag = rho_air * C_d * vy*vy * coneSA / 2\n",
    "    a_drag = f_drag / m\n",
    "    # Calculate the net acceleration on the rocket\n",
    "    ay = -1 * g - a_drag\n",
    "       \n",
    "    return 0, vy, ay"
   ]
  },
  {
   "cell_type": "code",
   "execution_count": 10,
   "metadata": {},
   "outputs": [
    {
     "data": {
      "text/plain": [
       "(-2.2290410519999999, 0.0, 99.449688136849247)"
      ]
     },
     "execution_count": 10,
     "metadata": {},
     "output_type": "execute_result"
    }
   ],
   "source": [
    "system = make_system(condition)\n",
    "slope_func1(system.init, 0, system)"
   ]
  },
  {
   "cell_type": "code",
   "execution_count": 11,
   "metadata": {},
   "outputs": [
    {
     "data": {
      "text/plain": [
       "(0, 0.0, -9.8000000000000007)"
      ]
     },
     "execution_count": 11,
     "metadata": {},
     "output_type": "execute_result"
    }
   ],
   "source": [
    "system = make_system(condition2)\n",
    "slope_func2(system.init, 0, system)"
   ]
  },
  {
   "cell_type": "code",
   "execution_count": 12,
   "metadata": {},
   "outputs": [
    {
     "data": {
      "image/png": "[encoded data removed]",
      "text/plain": [
       "<matplotlib.figure.Figure at 0x21867a07438>"
      ]
     },
     "metadata": {},
     "output_type": "display_data"
    }
   ],
   "source": [
    "testCondition1 = condition\n",
    "testCondition1.duration = 12\n",
    "\n",
    "system = make_system(testCondition1)\n",
    "run_odeint(system,slope_func1)\n",
    "\n",
    "plot(system.results.y)"
   ]
  },
  {
   "cell_type": "code",
   "execution_count": 13,
   "metadata": {},
   "outputs": [
    {
     "data": {
      "image/png": "[encoded data removed]",
      "text/plain": [
       "<matplotlib.figure.Figure at 0x21867bb0e10>"
      ]
     },
     "metadata": {},
     "output_type": "display_data"
    }
   ],
   "source": [
    "testCondition2 = condition2\n",
    "testCondition2.duration = 76\n",
    "testCondition2.init = system.results.iloc[-1]\n",
    "\n",
    "system2 = make_system2(testCondition2, 70.0)\n",
    "run_odeint(system2,slope_func2)\n",
    "\n",
    "plot(system2.results.y)"
   ]
  },
  {
   "cell_type": "code",
   "execution_count": 55,
   "metadata": {
    "collapsed": true
   },
   "outputs": [],
   "source": [
    "#Takes everything above and rolls it together\n",
    "\n",
    "def run_simulation(condition1, condition2, burn_rate, t_end=30, guess=80):\n",
    "    \n",
    "    #Runs the burn simulation initially\n",
    "    \n",
    "    condition1.set(duration=guess)\n",
    "    \n",
    "    condition1.set(burnRate=burn_rate)\n",
    "    \n",
    "    system=make_system(condition1)\n",
    "    \n",
    "    run_odeint(system,slope_func1)\n",
    "    \n",
    "    \n",
    "    #Interpolates Time that Engine cuts out\n",
    "    \n",
    "    Engine = interp_inverse(system.results.m_engine)\n",
    "    \n",
    "    t_burnout = Engine(0)\n",
    "    \n",
    "    \n",
    "    #Runs simulation again with new duration\n",
    "    \n",
    "    condition1.set(duration=t_burnout)\n",
    "    \n",
    "    system=make_system(condition1)\n",
    "    \n",
    "    run_odeint(system,slope_func1)\n",
    "    \n",
    "    results1 = system.results\n",
    "    \n",
    "    \n",
    "    #Runs second simulation intially\n",
    "    \n",
    "    condition2.init = system.results.iloc[-1]\n",
    "    \n",
    "    condition2.set(duration=t_end)\n",
    "    \n",
    "    system2 = make_system2(condition2, t_burnout)\n",
    "    \n",
    "    run_odeint(system2, slope_func2)\n",
    "    \n",
    "    results2 = system2.results\n",
    "    \n",
    "    \n",
    "    \n",
    "    #Combines results\n",
    "    \n",
    "    results = [results1, results2]\n",
    "    \n",
    "    combined = pd.concat(results)\n",
    "    \n",
    "    return combined.y.max()"
   ]
  },
  {
   "cell_type": "code",
   "execution_count": 61,
   "metadata": {},
   "outputs": [
    {
     "name": "stderr",
     "output_type": "stream",
     "text": [
      "C:\\ProgramData\\Miniconda3\\lib\\site-packages\\scipy\\integrate\\odepack.py:218: ODEintWarning: Excess work done on this call (perhaps wrong Dfun type). Run with full_output = 1 to get quantitative information.\n",
      "  warnings.warn(warning_msg, ODEintWarning)\n"
     ]
    },
    {
     "data": {
      "text/plain": [
       "9388.2600781228248"
      ]
     },
     "execution_count": 61,
     "metadata": {},
     "output_type": "execute_result"
    }
   ],
   "source": [
    "results = run_simulation(condition, condition2, 0.211111111111111111)\n",
    "results"
   ]
  },
  {
   "cell_type": "code",
   "execution_count": 62,
   "metadata": {
    "collapsed": true
   },
   "outputs": [],
   "source": [
    "def sweep_burns(sweep_array):\n",
    "    sweep = SweepSeries()\n",
    "    for rate in burn_array:\n",
    "        sweep[rate] = run_simulation(condition, condition2, rate)\n",
    "    return sweep"
   ]
  },
  {
   "cell_type": "code",
   "execution_count": 65,
   "metadata": {},
   "outputs": [
    {
     "name": "stderr",
     "output_type": "stream",
     "text": [
      "C:\\ProgramData\\Miniconda3\\lib\\site-packages\\scipy\\integrate\\odepack.py:218: ODEintWarning: Excess work done on this call (perhaps wrong Dfun type). Run with full_output = 1 to get quantitative information.\n",
      "  warnings.warn(warning_msg, ODEintWarning)\n"
     ]
    },
    {
     "data": {
      "text/html": [
       "<div>\n",
       "<style>\n",
       "    .dataframe thead tr:only-child th {\n",
       "        text-align: right;\n",
       "    }\n",
       "\n",
       "    .dataframe thead th {\n",
       "        text-align: left;\n",
       "    }\n",
       "\n",
       "    .dataframe tbody tr th {\n",
       "        vertical-align: top;\n",
       "    }\n",
       "</style>\n",
       "<table border=\"1\" class=\"dataframe\">\n",
       "  <thead>\n",
       "    <tr style=\"text-align: right;\">\n",
       "      <th></th>\n",
       "      <th>value</th>\n",
       "    </tr>\n",
       "  </thead>\n",
       "  <tbody>\n",
       "    <tr>\n",
       "      <th>0.100000</th>\n",
       "      <td>4393.359866</td>\n",
       "    </tr>\n",
       "    <tr>\n",
       "      <th>0.122222</th>\n",
       "      <td>4057.445110</td>\n",
       "    </tr>\n",
       "    <tr>\n",
       "      <th>0.144444</th>\n",
       "      <td>3782.482161</td>\n",
       "    </tr>\n",
       "    <tr>\n",
       "      <th>0.166667</th>\n",
       "      <td>4393.359866</td>\n",
       "    </tr>\n",
       "    <tr>\n",
       "      <th>0.188889</th>\n",
       "      <td>7001.643752</td>\n",
       "    </tr>\n",
       "    <tr>\n",
       "      <th>0.211111</th>\n",
       "      <td>8040.596920</td>\n",
       "    </tr>\n",
       "    <tr>\n",
       "      <th>0.233333</th>\n",
       "      <td>3048.816865</td>\n",
       "    </tr>\n",
       "    <tr>\n",
       "      <th>0.255556</th>\n",
       "      <td>3004.165066</td>\n",
       "    </tr>\n",
       "    <tr>\n",
       "      <th>0.277778</th>\n",
       "      <td>2894.631505</td>\n",
       "    </tr>\n",
       "    <tr>\n",
       "      <th>0.300000</th>\n",
       "      <td>2795.169983</td>\n",
       "    </tr>\n",
       "  </tbody>\n",
       "</table>\n",
       "</div>"
      ],
      "text/plain": [
       "0.100000    4393.359866\n",
       "0.122222    4057.445110\n",
       "0.144444    3782.482161\n",
       "0.166667    4393.359866\n",
       "0.188889    7001.643752\n",
       "0.211111    8040.596920\n",
       "0.233333    3048.816865\n",
       "0.255556    3004.165066\n",
       "0.277778    2894.631505\n",
       "0.300000    2795.169983\n",
       "dtype: float64"
      ]
     },
     "execution_count": 65,
     "metadata": {},
     "output_type": "execute_result"
    }
   ],
   "source": [
    "burn_array = linspace(0.1, 0.3, 10)\n",
    "please = sweep_burns(burn_array)\n",
    "please"
   ]
  },
  {
   "cell_type": "code",
   "execution_count": null,
   "metadata": {
    "collapsed": true
   },
   "outputs": [],
   "source": []
  },
  {
   "cell_type": "code",
   "execution_count": null,
   "metadata": {
    "collapsed": true
   },
   "outputs": [],
   "source": []
  }
 ],
 "metadata": {
  "kernelspec": {
   "display_name": "Python 3",
   "language": "python",
   "name": "python3"
  },
  "language_info": {
   "codemirror_mode": {
    "name": "ipython",
    "version": 3
   },
   "file_extension": ".py",
   "mimetype": "text/x-python",
   "name": "python",
   "nbconvert_exporter": "python",
   "pygments_lexer": "ipython3",
   "version": "3.6.1"
  }
 },
 "nbformat": 4,
 "nbformat_minor": 2
}
