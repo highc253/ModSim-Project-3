{
 "cells": [
  {
   "cell_type": "code",
   "execution_count": 1,
   "metadata": {
    "collapsed": true
   },
   "outputs": [],
   "source": [
    "%matplotlib inline\n",
    "\n",
    "from modsim import *"
   ]
  },
  {
   "cell_type": "code",
   "execution_count": 14,
   "metadata": {
    "collapsed": true
   },
   "outputs": [],
   "source": [
    "# Import relevant units\n",
    "\n",
    "m = UNITS.meter\n",
    "kg = UNITS.kilogram\n",
    "s = UNITS.second\n",
    "N = UNITS.newton\n",
    "cm = UNITS.centimeter\n",
    "gm = UNITS.gram\n",
    "mm = UNITS.millimeter\n",
    "degree = UNITS.degree"
   ]
  },
  {
   "cell_type": "code",
   "execution_count": 15,
   "metadata": {
    "collapsed": true
   },
   "outputs": [],
   "source": [
    "# Set initial conditions.  These conditions will be used in make_system to generate a system.\n",
    "\n",
    "condition = Condition(y=0*m, \n",
    "                      g=9.8*m/s**2, \n",
    "                      diameter=4*cm, \n",
    "                      rho_air=1.2*kg/m**3, \n",
    "                      C_d=0.75, \n",
    "                      velocity=0*m/s, \n",
    "                      duration=100*s, \n",
    "                      engineSA=4.5234*cm**2,\n",
    "                      m_engine=50.6360*gm,\n",
    "                      m_rocket=50*gm,\n",
    "                      rho_fuel=1.599*gm/cm**3,\n",
    "                      burnRate=1*mm/s,\n",
    "                      thetaCone=75*degree)"
   ]
  },
  {
   "cell_type": "code",
   "execution_count": 18,
   "metadata": {
    "collapsed": true
   },
   "outputs": [],
   "source": [
    "# Takes in an initial condition and generates a full system\n",
    "\n",
    "def make_system(condition):\n",
    "    unpack(condition)\n",
    "    vy = velocity\n",
    "    init = State(m_engine=m_engine,y=y,vy=vy)\n",
    "    r = diameter/2\n",
    "    h = r*math.tan(thetaCone)\n",
    "    coneSA = 3.14159 * r * (r + math.sqrt(r*r + h*h))\n",
    "    ts = linspace(0,duration,101)\n",
    "    \n",
    "    return System(init=init,\n",
    "                  g=g,\n",
    "                  rho_air=rho_air,\n",
    "                  C_d=C_d,\n",
    "                  engineSA=engineSA,\n",
    "                  m_engine=m_engine,\n",
    "                  m_rocket=m_rocket,\n",
    "                  rho_fuel=rho_fuel,\n",
    "                  burnRate=burnRate,\n",
    "                  ts=ts,\n",
    "                  coneSA=coneSA)"
   ]
  },
  {
   "cell_type": "code",
   "execution_count": 19,
   "metadata": {
    "collapsed": true
   },
   "outputs": [],
   "source": [
    "# Slope Function for OdeInt later\n",
    "\n",
    "def slope_func(state,t,system):\n",
    "    m_engine, y, vy = state\n",
    "    unpack(system)\n",
    "    m = m_rocket + m_engine\n",
    "    m_dot = rho_fuel * engineSA * burnRate\n",
    "    \n",
    "    f_drag = rho_air * C_d * vy*vy * coneSA / 2\n",
    "    a_drag = f_drag / m\n",
    "    \n",
    "    ay = (v_exhaust * m_dot) / m - g - a_drag\n",
    "    return vy, ay"
   ]
  },
  {
   "cell_type": "code",
   "execution_count": 10,
   "metadata": {
    "collapsed": true
   },
   "outputs": [],
   "source": [
    "#test test"
   ]
  },
  {
   "cell_type": "code",
   "execution_count": null,
   "metadata": {
    "collapsed": true
   },
   "outputs": [],
   "source": []
  }
 ],
 "metadata": {
  "kernelspec": {
   "display_name": "Python 3",
   "language": "python",
   "name": "python3"
  },
  "language_info": {
   "codemirror_mode": {
    "name": "ipython",
    "version": 3
   },
   "file_extension": ".py",
   "mimetype": "text/x-python",
   "name": "python",
   "nbconvert_exporter": "python",
   "pygments_lexer": "ipython3",
   "version": "3.6.1"
  }
 },
 "nbformat": 4,
 "nbformat_minor": 2
}
