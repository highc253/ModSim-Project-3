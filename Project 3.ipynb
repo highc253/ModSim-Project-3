{
 "cells": [
  {
   "cell_type": "code",
   "execution_count": 1,
   "metadata": {
    "collapsed": true
   },
   "outputs": [],
   "source": [
    "%matplotlib inline\n",
    "\n",
    "from modsim import *"
   ]
  },
  {
   "cell_type": "code",
   "execution_count": 6,
   "metadata": {
    "collapsed": true
   },
   "outputs": [],
   "source": [
    "# Import relevant units\n",
    "\n",
    "m = UNITS.meter\n",
    "kg = UNITS.kilogram\n",
    "s = UNITS.second\n",
    "N = UNITS.newton\n",
    "cm = UNITS.centimeter\n",
    "g = UNITS.gram\n",
    "mm = UNITS.millimeter"
   ]
  },
  {
   "cell_type": "code",
   "execution_count": 9,
   "metadata": {
    "collapsed": true
   },
   "outputs": [],
   "source": [
    "# Set initial conditions.  These conditions will be used in make_system to generate a system.\n",
    "\n",
    "condition = Condition(y=0*m, \n",
    "                      grav=9.8*m/s**2, \n",
    "                      diameter=4*cm, \n",
    "                      rho_air=1.2*kg/m**3, \n",
    "                      C_d=0.75, \n",
    "                      velocity=0*m/s, \n",
    "                      duration=100*s, \n",
    "                      A_surf=4.5234*cm**2,\n",
    "                      m_engine=50.6360*g,\n",
    "                      m_rocket=50*g,\n",
    "                      rho_fuel=1.599*g/cm**3,\n",
    "                      B_rate=1*mm/s)"
   ]
  },
  {
   "cell_type": "code",
   "execution_count": null,
   "metadata": {
    "collapsed": true
   },
   "outputs": [],
   "source": [
    "# Takes in an initial condition and generates a full system\n",
    "\n",
    "def make_system(condition):\n",
    "    unpack(condition)\n",
    "    vy = velocity\n",
    "    init = State(y=y,vy=vy)\n",
    "    area_rocket = np.pi * "
   ]
  },
  {
   "cell_type": "code",
   "execution_count": 2,
   "metadata": {
    "collapsed": true
   },
   "outputs": [],
   "source": [
    "\n",
    "\n",
    "def slope_func(state,t,system):\n",
    "    m, y, vy = state\n",
    "    unpack(system)\n",
    "    m_dot = rho * A_surf * B_rate\n",
    "    ay = (v_exhaust * m_dot) / m - g - F_drag / m\n",
    "    return vy, ay"
   ]
  },
  {
   "cell_type": "code",
   "execution_count": null,
   "metadata": {
    "collapsed": true
   },
   "outputs": [],
   "source": []
  }
 ],
 "metadata": {
  "kernelspec": {
   "display_name": "Python 3",
   "language": "python",
   "name": "python3"
  },
  "language_info": {
   "codemirror_mode": {
    "name": "ipython",
    "version": 3
   },
   "file_extension": ".py",
   "mimetype": "text/x-python",
   "name": "python",
   "nbconvert_exporter": "python",
   "pygments_lexer": "ipython3",
   "version": "3.6.1"
  }
 },
 "nbformat": 4,
 "nbformat_minor": 2
}
