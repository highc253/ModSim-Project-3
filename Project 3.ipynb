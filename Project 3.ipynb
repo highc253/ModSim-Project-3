{
 "cells": [
  {
   "cell_type": "code",
   "execution_count": 1,
   "metadata": {
    "collapsed": true
   },
   "outputs": [],
   "source": [
    "%matplotlib inline\n",
    "\n",
    "from modsim import *\n",
    "import math"
   ]
  },
  {
   "cell_type": "markdown",
   "metadata": {},
   "source": [
    "We used units to verify that our equations work out the way we want them to, but we had trouble converting between units (i.e. mm to cm) and so switched to all-scalars for the final model.  The cell below is an artifact of that fact."
   ]
  },
  {
   "cell_type": "code",
   "execution_count": 2,
   "metadata": {
    "collapsed": true
   },
   "outputs": [],
   "source": [
    "# Import relevant units\n",
    "\n",
    "m = UNITS.meter\n",
    "kg = UNITS.kilogram\n",
    "s = UNITS.second\n",
    "N = UNITS.newton\n",
    "cm = UNITS.centimeter\n",
    "gm = UNITS.gram\n",
    "mm = UNITS.millimeter\n",
    "degree = UNITS.degree"
   ]
  },
  {
   "cell_type": "markdown",
   "metadata": {},
   "source": [
    "Time to set the intial conditions; this sets up all the parameters for the rocket, its engine, and the environment it's in.  "
   ]
  },
  {
   "cell_type": "code",
   "execution_count": 3,
   "metadata": {
    "collapsed": true
   },
   "outputs": [],
   "source": [
    "# Set initial conditions.  These conditions will be used in make_system to generate a system.\n",
    "\n",
    "condition = Condition(# Set cap for simulation time\n",
    "                      duration=105, #*s,\n",
    "                      \n",
    "                      # -----------------------------------------\n",
    "                      # Initial state and environmental properties\n",
    "                      # -----------------------------------------\n",
    "                      y=0, #*m, \n",
    "                      g=9.8, #*m/s**2,\n",
    "                      velocity=0, #*m/s,\n",
    "                      rho_air=1.2, #*kg/m**3,\n",
    "                      \n",
    "                      # -----------------------------------------\n",
    "                      # Properties of the rocket body\n",
    "                      # -----------------------------------------\n",
    "                      m_rocket=50, #*gm,\n",
    "                      diameter=4, #*cm, \n",
    "                      C_d=0.75, \n",
    "                      thetaCone=75,\n",
    "                      \n",
    "                      # -----------------------------------------\n",
    "                      # Properties of the engine and exhaust\n",
    "                      # -----------------------------------------\n",
    "                      m_engine=52.0159, #*gm,\n",
    "                      v_exhaust=5000, # * m/s,\n",
    "                      rho_fuel=1.6426, #*gm/cm**3,\n",
    "                      engineSA=4.5234, #*cm**2,\n",
    "                      burnRate=0.1, #*cm/s,   THIS USED TO READ 1 (mm) which I think was wrong\n",
    "                      \n",
    "                      )"
   ]
  },
  {
   "cell_type": "markdown",
   "metadata": {},
   "source": [
    "Let's define a function to make systems for us.  This needs to copy certain parameters from the initial Condition object to the system and calculate the surface area of the rocket that will need to be accounted for in the drag calculation."
   ]
  },
  {
   "cell_type": "code",
   "execution_count": 14,
   "metadata": {
    "collapsed": true
   },
   "outputs": [],
   "source": [
    "# Takes in an initial condition and generates a full system\n",
    "\n",
    "def make_system(condition):\n",
    "    \n",
    "    unpack(condition)\n",
    "    \n",
    "    vy = velocity\n",
    "    init = State(m_engine=m_engine,y=y,vy=vy)\n",
    "    \n",
    "    r = diameter/2\n",
    "    h = r*math.tan(thetaCone)\n",
    "    coneSA = 3.14159 * r * (r + sqrt(r*r + h*h))\n",
    "    \n",
    "    ts = linspace(0,duration,101)\n",
    "    \n",
    "    return System(init=init,\n",
    "                  g=g,\n",
    "                  rho_air=rho_air,\n",
    "                  C_d=C_d,\n",
    "                  engineSA=engineSA,\n",
    "                  m_engine=m_engine,\n",
    "                  m_rocket=m_rocket,\n",
    "                  rho_fuel=rho_fuel,\n",
    "                  burnRate=burnRate,\n",
    "                  ts=ts,\n",
    "                  coneSA=coneSA,\n",
    "                  v_exhaust=v_exhaust)"
   ]
  },
  {
   "cell_type": "markdown",
   "metadata": {},
   "source": [
    "Now let's define the slope function.  There are three properties changing: the mass of the engine, the height of the rocket, and the velocity of the rocket, so these three slopes must be calculated.\n",
    "\n",
    "**UPDATE - THIS IS BROKEN! THIS IS THE OLD SLOPE FUNCTION, IT DOESN'T DO WHAT WE THINK IT DOES BECAUSE WE FORGOT TO ACCOUNT FOR THE PERIOD OF TIME WHERE THE ROCKET RUNS OUT OF FUEL BUT STILL HAS UPWARDS VELOCITY** "
   ]
  },
  {
   "cell_type": "code",
   "execution_count": 134,
   "metadata": {},
   "outputs": [
    {
     "data": {
      "text/plain": [
       "'\\ndef slope_func(state,t,system):\\n    \\n    unpack(system)\\n    print(state)\\n    m_engine, y, vy = state  #init\\n    \\n    if m_engine >= 0:\\n        m = m_rocket + m_engine\\n        m_dot = rho_fuel * engineSA * burnRate\\n        \\n        if m_dot > m_engine:\\n            print(\"Engine: \" + str(m_engine) + \"M_Dot: \" + str(m_dot))\\n            m_dot = m_engine\\n        \\n        \\n        #print(\"Mass: \" + str(m_engine) + \", subtracting: \" + str(-1*m_dot))\\n        \\n    else:\\n        m_engine = 0\\n        m = m_rocket\\n        m_dot = 0\\n        #print(\"Out of fuel, returning \" + str(-1*m_dot))\\n    \\n    f_drag = rho_air * C_d * vy*vy * coneSA / 2\\n    a_drag = f_drag / m\\n    ay = (v_exhaust * m_dot) / m - g - a_drag\\n    \\n    return -1*m_dot, vy, ay\\n    '"
      ]
     },
     "execution_count": 134,
     "metadata": {},
     "output_type": "execute_result"
    }
   ],
   "source": [
    "# Slope Function for OdeInt later\n",
    "\n",
    "# THIS WHOLE THING IS FAULTY, WE FORGOT TO ACCOUNT FOR\n",
    "#   WHAT HAPPENS AFTER THE ENGINE RUNS OUT OF MASS\n",
    "\"\"\"\n",
    "def slope_func(state,t,system):\n",
    "    \n",
    "    unpack(system)\n",
    "    print(state)\n",
    "    m_engine, y, vy = state  #init\n",
    "    \n",
    "    if m_engine >= 0:\n",
    "        m = m_rocket + m_engine\n",
    "        m_dot = rho_fuel * engineSA * burnRate\n",
    "        \n",
    "        if m_dot > m_engine:\n",
    "            print(\"Engine: \" + str(m_engine) + \"M_Dot: \" + str(m_dot))\n",
    "            m_dot = m_engine\n",
    "        \n",
    "        \n",
    "        #print(\"Mass: \" + str(m_engine) + \", subtracting: \" + str(-1*m_dot))\n",
    "        \n",
    "    else:\n",
    "        m_engine = 0\n",
    "        m = m_rocket\n",
    "        m_dot = 0\n",
    "        #print(\"Out of fuel, returning \" + str(-1*m_dot))\n",
    "    \n",
    "    f_drag = rho_air * C_d * vy*vy * coneSA / 2\n",
    "    a_drag = f_drag / m\n",
    "    ay = (v_exhaust * m_dot) / m - g - a_drag\n",
    "    \n",
    "    return -1*m_dot, vy, ay\n",
    "    \"\"\""
   ]
  },
  {
   "cell_type": "code",
   "execution_count": 15,
   "metadata": {
    "collapsed": true
   },
   "outputs": [],
   "source": [
    "data = TimeSeries()\n",
    "\n",
    "def slope_func(state,t,system):\n",
    "    \n",
    "    unpack(system)\n",
    "    \n",
    "    #print(state)\n",
    "    \n",
    "    # Grab the initial state of everything\n",
    "    m_engine, y, vy = state\n",
    "    \n",
    "    # Calculate m_dot\n",
    "    m_dot = -1 * rho_fuel * engineSA * burnRate\n",
    "    \n",
    "    # Check that we still have fuel\n",
    "    if m_engine >= 0:\n",
    "        m = m_rocket + m_engine\n",
    "    \n",
    "    # If we don't, ignore engine mass and set m_dot to zero\n",
    "    else:\n",
    "        #print(\"Out of fuel\")\n",
    "        m = m_rocket\n",
    "        m_dot = 0\n",
    "    \n",
    "    # Calculate the acceleration due to drag\n",
    "    f_drag = rho_air * C_d * vy*vy * coneSA / 2\n",
    "    a_drag = f_drag / m\n",
    "    \n",
    "    # Calculate the net acceleration on the rocket\n",
    "    #   keeping in mind that if the rocket is falling\n",
    "    #   then the drag force switches direction\n",
    "    if vy >= 0:\n",
    "        ay = (v_exhaust * -1 * m_dot) / m - g - a_drag\n",
    "        \n",
    "    else:\n",
    "        ay = (v_exhaust * -1 * m_dot) / m - g + a_drag\n",
    "    \n",
    "    \n",
    "    if m_dot > 0:\n",
    "        print(m_dot)\n",
    "    #print(\"m_dot = \" + str(m_dot))\n",
    "    \n",
    "    data[t] = vy\n",
    "    \n",
    "    return m_dot, vy, ay"
   ]
  },
  {
   "cell_type": "code",
   "execution_count": 16,
   "metadata": {},
   "outputs": [
    {
     "data": {
      "text/plain": [
       "(-0.74301368400000001, 0.0, 26.616562712283088)"
      ]
     },
     "execution_count": 16,
     "metadata": {},
     "output_type": "execute_result"
    }
   ],
   "source": [
    "system = make_system(condition)\n",
    "slope_func(system.init, 0, system)"
   ]
  },
  {
   "cell_type": "code",
   "execution_count": 17,
   "metadata": {},
   "outputs": [],
   "source": [
    "condition.duration = 106   # For some reason 106 is the upper limit, after that the model breaks\n",
    "system = make_system(condition)\n",
    "run_odeint(system,slope_func)"
   ]
  },
  {
   "cell_type": "code",
   "execution_count": 18,
   "metadata": {},
   "outputs": [
    {
     "data": {
      "image/png": "[encoded data removed]",
      "text/plain": [
       "<matplotlib.figure.Figure at 0x210ea672400>"
      ]
     },
     "metadata": {},
     "output_type": "display_data"
    }
   ],
   "source": [
    "#plot(data)\n",
    "plot(system.results.y[60:80])"
   ]
  },
  {
   "cell_type": "code",
   "execution_count": 161,
   "metadata": {},
   "outputs": [
    {
     "data": {
      "image/png": "[encoded data removed]",
      "text/plain": [
       "<matplotlib.figure.Figure at 0x138076af7b8>"
      ]
     },
     "metadata": {},
     "output_type": "display_data"
    }
   ],
   "source": [
    "condition = Condition(\n",
    "                      # -----------------------------------------\n",
    "                      # Initial state and environmental properties\n",
    "                      # -----------------------------------------\n",
    "                      y=0, #*m, \n",
    "                      g=9.8, #*m/s**2,\n",
    "                      velocity=0, #*m/s,\n",
    "                      rho_air=1.2, #*kg/m**3,\n",
    "                      \n",
    "                      # -----------------------------------------\n",
    "                      # Properties of the rocket body\n",
    "                      # -----------------------------------------\n",
    "                      m_rocket=50, #*gm,\n",
    "                      diameter=4, #*cm, \n",
    "                      C_d=0.75, \n",
    "                      thetaCone=75,\n",
    "                      \n",
    "                      # -----------------------------------------\n",
    "                      # Properties of the engine and exhaust\n",
    "                      # -----------------------------------------\n",
    "                      m_engine=52.0159, #*gm,\n",
    "                      v_exhaust=5000, # * m/s,\n",
    "                      rho_fuel=1.6426, #*gm/cm**3,\n",
    "                      engineSA=4.5234, #*cm**2,\n",
    "                      burnRate=0.1, #*cm/s,   THIS USED TO READ 1 (mm) which I think was wrong\n",
    "                      \n",
    "                      )\n",
    "\n",
    "system = make_system(condition)\n",
    "run_odeint(system,slope_func)\n",
    "plot(system.results.m_engine)"
   ]
  },
  {
   "cell_type": "code",
   "execution_count": null,
   "metadata": {
    "collapsed": true
   },
   "outputs": [],
   "source": []
  },
  {
   "cell_type": "code",
   "execution_count": null,
   "metadata": {
    "collapsed": true
   },
   "outputs": [],
   "source": []
  }
 ],
 "metadata": {
  "kernelspec": {
   "display_name": "Python 3",
   "language": "python",
   "name": "python3"
  },
  "language_info": {
   "codemirror_mode": {
    "name": "ipython",
    "version": 3
   },
   "file_extension": ".py",
   "mimetype": "text/x-python",
   "name": "python",
   "nbconvert_exporter": "python",
   "pygments_lexer": "ipython3",
   "version": "3.6.1"
  }
 },
 "nbformat": 4,
 "nbformat_minor": 2
}
