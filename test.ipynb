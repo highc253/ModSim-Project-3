{
 "cells": [
  {
   "cell_type": "code",
   "execution_count": 10,
   "metadata": {
    "collapsed": true
   },
   "outputs": [],
   "source": [
    "%matplotlib inline\n",
    "\n",
    "from scipy.integrate import ode\n",
    "import numpy as np\n",
    "from modsim import *\n",
    "import math"
   ]
  },
  {
   "cell_type": "code",
   "execution_count": 11,
   "metadata": {
    "collapsed": true
   },
   "outputs": [],
   "source": [
    "def find_nearest(array,value):\n",
    "    idx = (np.abs(array-value)).argmin()\n",
    "    return array[idx]"
   ]
  },
  {
   "cell_type": "markdown",
   "metadata": {},
   "source": [
    "Time to set the intial conditions; this sets up all the parameters for the rocket, its engine, and the environment it's in.  "
   ]
  },
  {
   "cell_type": "code",
   "execution_count": 86,
   "metadata": {
    "collapsed": true
   },
   "outputs": [],
   "source": [
    "# Set initial conditions.  These conditions will be used in make_system to generate a system.\n",
    "\n",
    "condition = Condition(# Set cap for simulation time\n",
    "                      duration=105, #*s,\n",
    "                      \n",
    "                      # -----------------------------------------\n",
    "                      # Initial state and environmental properties\n",
    "                      # -----------------------------------------\n",
    "                      y=0, #*m, \n",
    "                      g=9.8, #*m/s**2,\n",
    "                      velocity=0, #*m/s,\n",
    "                      rho_air=1.2, #*kg/m**3,\n",
    "                      \n",
    "                      # -----------------------------------------\n",
    "                      # Properties of the rocket body\n",
    "                      # -----------------------------------------\n",
    "                      m_rocket=0.5, #*kg,\n",
    "                      diameter=4, #*cm, \n",
    "                      C_d=0.75, \n",
    "                      thetaCone=75,\n",
    "                      \n",
    "                      # -----------------------------------------\n",
    "                      # Properties of the engine and exhaust\n",
    "                      # -----------------------------------------\n",
    "                      m_engine=.0520159, #*kg,\n",
    "                      v_exhaust=5000, # * m/s,\n",
    "                      rho_fuel=1642.6, #*kg/m**3,\n",
    "                      engineSA=.00045234, #*m**2,\n",
    "                      burnRate=.001, #*m/s,   THIS USED TO READ 1 (mm) which I think was wrong\n",
    "                      \n",
    "                      )\n",
    "\n",
    "# Set initial conditions.  These conditions will be used in make_system to generate a system.\n",
    "\n",
    "condition2 = Condition(# Set cap for simulation time\n",
    "                      duration=105, #*s,\n",
    "                      \n",
    "                      # -----------------------------------------\n",
    "                      # Initial state and environmental properties\n",
    "                      # -----------------------------------------\n",
    "                      y=0, #*m, \n",
    "                      g=9.8, #*m/s**2,\n",
    "                      velocity=0, #*m/s,\n",
    "                      rho_air=1.2, #*kg/m**3,\n",
    "                      \n",
    "                      # -----------------------------------------\n",
    "                      # Properties of the rocket body\n",
    "                      # -----------------------------------------\n",
    "                      m_rocket=.050, #*kg,\n",
    "                      diameter=4, #*cm, \n",
    "                      C_d=0.75, \n",
    "                      thetaCone=75,\n",
    "                      \n",
    "                      # -----------------------------------------\n",
    "                      # Properties of the engine and exhaust\n",
    "                      # -----------------------------------------\n",
    "                      m_engine=0, #*kg,\n",
    "                      v_exhaust=5000, # * m/s,\n",
    "                      rho_fuel=1642.6, #*gm/cm**3,\n",
    "                      engineSA=.00045234, #*m**2,\n",
    "                      burnRate=0.001, #*m/s,   THIS USED TO READ 1 (mm) which I think was wrong\n",
    "                      \n",
    "                      )"
   ]
  },
  {
   "cell_type": "markdown",
   "metadata": {},
   "source": [
    "Let's define a function to make systems for us.  This needs to copy certain parameters from the initial Condition object to the system and calculate the surface area of the rocket that will need to be accounted for in the drag calculation."
   ]
  },
  {
   "cell_type": "code",
   "execution_count": 87,
   "metadata": {
    "collapsed": true
   },
   "outputs": [],
   "source": [
    "# Takes in an initial condition and generates a full system\n",
    "\n",
    "def make_system(condition):\n",
    "    \n",
    "    unpack(condition)\n",
    "    \n",
    "    vy = velocity\n",
    "    init = State(m_engine=m_engine,y=y,vy=vy)\n",
    "    \n",
    "    #REDACTED TO DUE GUESS AND CHECK\n",
    "    #r = diameter/2\n",
    "    #h = r*math.tan(thetaCone)\n",
    "    #coneSA = 3.14159 * r * (r + sqrt(r*r + h*h))\n",
    "    \n",
    "    \n",
    "    coneSA = 0.0021\n",
    "    \n",
    "    ts = linspace(0,duration,101)\n",
    "    \n",
    "    return System(init=init,\n",
    "                  g=g,\n",
    "                  rho_air=rho_air,\n",
    "                  C_d=C_d,\n",
    "                  engineSA=engineSA,\n",
    "                  m_engine=m_engine,\n",
    "                  m_rocket=m_rocket,\n",
    "                  rho_fuel=rho_fuel,\n",
    "                  burnRate=burnRate,\n",
    "                  ts=ts,\n",
    "                  coneSA=coneSA,\n",
    "                  v_exhaust=v_exhaust)"
   ]
  },
  {
   "cell_type": "code",
   "execution_count": 88,
   "metadata": {
    "collapsed": true
   },
   "outputs": [],
   "source": [
    "# Takes in an initial condition and generates a full system\n",
    "\n",
    "def make_system2(condition2, t0):\n",
    "    \n",
    "    unpack(condition2)\n",
    "    vy = velocity\n",
    "    init = State(y=y,vy=vy)\n",
    "    \n",
    "    #REDACTED DUE TO GUESS AND CHECK\n",
    "    #r = diameter/2\n",
    "    #h = r*math.tan(thetaCone)\n",
    "    #coneSA = 3.14159 * r * (r + sqrt(r*r + h*h))\n",
    "    \n",
    "    coneSA = 0.0021\n",
    "    \n",
    "    ts = linspace(t0,duration,101)\n",
    "    \n",
    "    return System(init=init,\n",
    "                  g=g,\n",
    "                  rho_air=rho_air,\n",
    "                  C_d=C_d,\n",
    "                  engineSA=engineSA,\n",
    "                  m_rocket=m_rocket,\n",
    "                  ts=ts,\n",
    "                  coneSA=coneSA)"
   ]
  },
  {
   "cell_type": "code",
   "execution_count": 89,
   "metadata": {
    "collapsed": true
   },
   "outputs": [],
   "source": [
    "# Run this function UNTIL THE ENGINE RUNS OUT OF FUEL\n",
    "\n",
    "def slope_func1(state,t,system):\n",
    "    \n",
    "    unpack(system)\n",
    "        \n",
    "    # Grab the initial state of everything\n",
    "    m_engine, y, vy = state\n",
    "    \n",
    "    # Calculate m_dot\n",
    "    m_dot = -1 * rho_fuel * engineSA * burnRate\n",
    "    \n",
    "    if m_engine > 0:\n",
    "        m = m_rocket + m_engine\n",
    "    else:\n",
    "        m = m_rocket\n",
    "    \n",
    "    # Calculate the acceleration due to drag\n",
    "    f_drag = rho_air * C_d * abs(vy) * vy * coneSA / 2\n",
    "    a_drag = f_drag / m\n",
    "    \n",
    "    f_engine = v_exhaust * -1 * m_dot\n",
    "    a_engine = f_engine / m\n",
    "    \n",
    "    ay = a_engine - g #- a_drag\n",
    "    \n",
    "    \n",
    "    #if m_engine < 0:\n",
    "        #print(\"Engine mass \" + str(m_engine) + \" at time \" + str(t))\n",
    "            \n",
    "    return m_dot, vy, ay"
   ]
  },
  {
   "cell_type": "code",
   "execution_count": 67,
   "metadata": {
    "collapsed": true
   },
   "outputs": [],
   "source": [
    "# Run this function AFTER THE ENGINE RUNS OUT OF FUEL\n",
    "\n",
    "def slope_func2(state,t,system):\n",
    "    \n",
    "    unpack(system)\n",
    "    \n",
    "    # Grab the initial state of everything\n",
    "    y, vy = state\n",
    "    \n",
    "    # Calculate the acceleration due to drag\n",
    "    f_drag = rho_air * C_d * abs(vy) * vy * coneSA / 2\n",
    "    a_drag = f_drag / m_rocket\n",
    "    \n",
    "    # Calculate the net acceleration on the rocket\n",
    "    ay = -1 * g - a_drag\n",
    "       \n",
    "    return vy, ay"
   ]
  },
  {
   "cell_type": "code",
   "execution_count": 68,
   "metadata": {},
   "outputs": [
    {
     "data": {
      "image/png": "[encoded data removed]",
      "text/plain": [
       "<matplotlib.figure.Figure at 0x28d36a16a20>"
      ]
     },
     "metadata": {},
     "output_type": "display_data"
    }
   ],
   "source": [
    "testCondition1 = condition\n",
    "testCondition1.duration = 30\n",
    "testCondition1.burnRate = 0.001\n",
    "system = make_system(testCondition1)\n",
    "run_odeint(system,slope_func1)\n",
    "\n",
    "plot(system.results.y)\n",
    "#plot(system.results.vy)"
   ]
  },
  {
   "cell_type": "code",
   "execution_count": 69,
   "metadata": {},
   "outputs": [
    {
     "data": {
      "image/png": "[encoded data removed]",
      "text/plain": [
       "<matplotlib.figure.Figure at 0x28d369b07b8>"
      ]
     },
     "metadata": {},
     "output_type": "display_data"
    }
   ],
   "source": [
    "testCondition2 = condition2\n",
    "testCondition2.duration = 1000\n",
    "\n",
    "system2 = make_system2(condition2, system.results.index[-1])\n",
    "\n",
    "system2.init.y = system.results.y.iloc[-1]\n",
    "system2.init.vy = system.results.vy.iloc[-1]\n",
    "system2.init\n",
    "\n",
    "run_odeint(system2,slope_func2)\n",
    "\n",
    "plot(system2.results.y)"
   ]
  },
  {
   "cell_type": "code",
   "execution_count": 72,
   "metadata": {
    "collapsed": true
   },
   "outputs": [],
   "source": [
    "#Takes everything above and rolls it together\n",
    "\n",
    "\"\"\"\n",
    "make this better\n",
    "\"\"\"\n",
    "\n",
    "def run_simulation(condition1, condition2, burn_rate, t_end=100000, guess=80):\n",
    "    \n",
    "    #Runs the burn simulation initially\n",
    "    condition1.set(duration=guess)\n",
    "    \n",
    "    condition1.set(burnRate=burn_rate)\n",
    "    \n",
    "    system=make_system(condition1)\n",
    "    \n",
    "    run_odeint(system,slope_func1)\n",
    "    \n",
    "    \n",
    "    #Interpolates Results\n",
    "    Time = interp_inverse(system.results.m_engine)\n",
    "    t_burnout = Time(0)\n",
    "    t_series_burnout = find_nearest(system.results.index, t_burnout)\n",
    "    \n",
    "    results1 = system.results[:t_series_burnout]\n",
    "    \n",
    "    \n",
    "    #Runs second simulation\n",
    "    \n",
    "    condition2.init = results1.iloc[-1]\n",
    "    \n",
    "    condition2.set(duration=t_end)\n",
    "    \n",
    "    system2 = make_system2(condition2, t_burnout)\n",
    "    \n",
    "    run_odeint(system2, slope_func2)\n",
    "    \n",
    "    results2 = system2.results\n",
    "    \n",
    "    \n",
    "    \n",
    "    #Combines results\n",
    "    \n",
    "    results = [results1, results2]\n",
    "    \n",
    "    combined = pd.concat(results)\n",
    "    \n",
    "    return combined.y.max()"
   ]
  },
  {
   "cell_type": "code",
   "execution_count": 73,
   "metadata": {},
   "outputs": [
    {
     "data": {
      "text/plain": [
       "49680.991529633982"
      ]
     },
     "execution_count": 73,
     "metadata": {},
     "output_type": "execute_result"
    }
   ],
   "source": [
    "run_simulation(condition, condition2, 0.002)"
   ]
  },
  {
   "cell_type": "code",
   "execution_count": 74,
   "metadata": {
    "collapsed": true
   },
   "outputs": [],
   "source": [
    "def sweep_burns(sweep_array):\n",
    "    sweep = SweepSeries()\n",
    "    for rate in burn_array:\n",
    "        sweep[rate] = run_simulation(condition, condition2, rate)\n",
    "    return sweep"
   ]
  },
  {
   "cell_type": "code",
   "execution_count": 110,
   "metadata": {},
   "outputs": [
    {
     "name": "stderr",
     "output_type": "stream",
     "text": [
      "C:\\ProgramData\\Miniconda3\\lib\\site-packages\\matplotlib\\axes\\_axes.py:545: UserWarning: No labelled objects found. Use label='...' kwarg on individual plots.\n",
      "  warnings.warn(\"No labelled objects found. \"\n"
     ]
    },
    {
     "data": {
      "image/png": "[encoded data removed]",
      "text/plain": [
       "<matplotlib.figure.Figure at 0x28d381e5978>"
      ]
     },
     "metadata": {},
     "output_type": "display_data"
    }
   ],
   "source": [
    "burn_array = linspace(0.001, 0.01, 100)\n",
    "please = sweep_burns(burn_array)\n",
    "please.index = please.index * 100\n",
    "\n",
    "plot(please)\n",
    "decorate(xlabel='Burn Rate (cm/s)', ylabel='Max Height (m)')"
   ]
  },
  {
   "cell_type": "code",
   "execution_count": null,
   "metadata": {
    "collapsed": true
   },
   "outputs": [],
   "source": []
  },
  {
   "cell_type": "code",
   "execution_count": null,
   "metadata": {
    "collapsed": true
   },
   "outputs": [],
   "source": []
  },
  {
   "cell_type": "code",
   "execution_count": null,
   "metadata": {
    "collapsed": true
   },
   "outputs": [],
   "source": []
  },
  {
   "cell_type": "code",
   "execution_count": null,
   "metadata": {
    "collapsed": true
   },
   "outputs": [],
   "source": []
  },
  {
   "cell_type": "code",
   "execution_count": null,
   "metadata": {
    "collapsed": true
   },
   "outputs": [],
   "source": []
  },
  {
   "cell_type": "code",
   "execution_count": null,
   "metadata": {
    "collapsed": true
   },
   "outputs": [],
   "source": []
  },
  {
   "cell_type": "code",
   "execution_count": 134,
   "metadata": {
    "collapsed": true
   },
   "outputs": [],
   "source": [
    "# Set initial conditions NOTE: FOR ESTES ENGINE TO DETERMINE DRAG.  These conditions will be used in make_system to generate a system.\n",
    "\n",
    "condition = Condition(# Set cap for simulation time\n",
    "                      duration=105, #*s,\n",
    "                      \n",
    "                      # -----------------------------------------\n",
    "                      # Initial state and environmental properties\n",
    "                      # -----------------------------------------\n",
    "                      y=0, #*m, \n",
    "                      g=9.8, #*m/s**2,\n",
    "                      velocity=0, #*m/s,\n",
    "                      rho_air=1.2, #*kg/m**3,\n",
    "                      \n",
    "                      # -----------------------------------------\n",
    "                      # Properties of the rocket body\n",
    "                      # -----------------------------------------\n",
    "                      m_rocket=40, #*gm,\n",
    "                      diameter=2.5, #*cm, \n",
    "                      C_d=0.75, \n",
    "                      thetaCone=85,\n",
    "                      \n",
    "                      # -----------------------------------------\n",
    "                      # Properties of the engine and exhaust\n",
    "                      # -----------------------------------------\n",
    "                      m_engine=10.8, #*gm,\n",
    "                      v_exhaust=5000, # * m/s,\n",
    "                      rho_fuel=1.7, #*gm/cm**3,\n",
    "                      engineSA=5.76, #*cm**2,\n",
    "                      burnRate=0.4, #*cm/s,   THIS USED TO READ 1 (mm) which I think was wrong\n",
    "                      \n",
    "                      )\n",
    "\n",
    "# Set initial conditions.  These conditions will be used in make_system to generate a system.\n",
    "\n",
    "condition2 = Condition(# Set cap for simulation time\n",
    "                      duration=105, #*s,\n",
    "                      \n",
    "                      # -----------------------------------------\n",
    "                      # Initial state and environmental properties\n",
    "                      # -----------------------------------------\n",
    "                      y=0, #*m, \n",
    "                      g=9.8, #*m/s**2,\n",
    "                      velocity=0, #*m/s,\n",
    "                      rho_air=1.2, #*kg/m**3,\n",
    "                      \n",
    "                      # -----------------------------------------\n",
    "                      # Properties of the rocket body\n",
    "                      # -----------------------------------------\n",
    "                      m_rocket=40, #*gm,\n",
    "                      diameter=2.5, #*cm, \n",
    "                      C_d=0.75, \n",
    "                      thetaCone=85,\n",
    "                      \n",
    "                      # -----------------------------------------\n",
    "                      # Properties of the engine and exhaust\n",
    "                      # -----------------------------------------\n",
    "                      m_engine=0, #*gm,\n",
    "                      v_exhaust=5000, # * m/s,\n",
    "                      rho_fuel=1.6426, #*gm/cm**3,\n",
    "                      engineSA=4.5234, #*cm**2,\n",
    "                      burnRate=0.1, #*cm/s,   THIS USED TO READ 1 (mm) which I think was wrong\n",
    "                      \n",
    "                      )"
   ]
  }
 ],
 "metadata": {
  "kernelspec": {
   "display_name": "Python 3",
   "language": "python",
   "name": "python3"
  },
  "language_info": {
   "codemirror_mode": {
    "name": "ipython",
    "version": 3
   },
   "file_extension": ".py",
   "mimetype": "text/x-python",
   "name": "python",
   "nbconvert_exporter": "python",
   "pygments_lexer": "ipython3",
   "version": "3.6.1"
  }
 },
 "nbformat": 4,
 "nbformat_minor": 2
}
