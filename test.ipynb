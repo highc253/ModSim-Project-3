{
 "cells": [
  {
   "cell_type": "code",
   "execution_count": 1,
   "metadata": {
    "collapsed": true
   },
   "outputs": [],
   "source": [
    "%matplotlib qt5\n",
    "\n",
    "from scipy.integrate import ode\n",
    "import numpy as np\n",
    "from modsim import *\n",
    "import math"
   ]
  },
  {
   "cell_type": "code",
   "execution_count": 2,
   "metadata": {
    "collapsed": true
   },
   "outputs": [],
   "source": [
    "def find_nearest(array,value):\n",
    "    idx = (np.abs(array-value)).argmin()\n",
    "    return array[idx]"
   ]
  },
  {
   "cell_type": "code",
   "execution_count": 2,
   "metadata": {
    "collapsed": true
   },
   "outputs": [],
   "source": [
    "def parse_data(data):\n",
    "    for time in data.m_engine.index:\n",
    "        if data.m_engine[time] < 0:\n",
    "            new_data = data[:time]\n",
    "            return new_data"
   ]
  },
  {
   "cell_type": "markdown",
   "metadata": {},
   "source": [
    "Time to set the intial conditions; this sets up all the parameters for the rocket, its engine, and the environment it's in.  "
   ]
  },
  {
   "cell_type": "code",
   "execution_count": 3,
   "metadata": {
    "collapsed": true
   },
   "outputs": [],
   "source": [
    "# Set initial conditions.  These conditions will be used in make_system to generate a system.\n",
    "\n",
    "condition = Condition(# Set cap for simulation time\n",
    "                      duration=105, #*s,\n",
    "                      \n",
    "                      # -----------------------------------------\n",
    "                      # Initial state and environmental properties\n",
    "                      # -----------------------------------------\n",
    "                      y=0, #*m, \n",
    "                      g=9.8, #*m/s**2,\n",
    "                      velocity=0, #*m/s,\n",
    "                      rho_air=1.2, #*kg/m**3,\n",
    "                      \n",
    "                      # -----------------------------------------\n",
    "                      # Properties of the rocket body\n",
    "                      # -----------------------------------------\n",
    "                      m_rocket=0.3, #*kg,\n",
    "                      diameter=4, #*cm, \n",
    "                      C_d=0.75, \n",
    "                      thetaCone=75,\n",
    "                      \n",
    "                      # -----------------------------------------\n",
    "                      # Properties of the engine and exhaust\n",
    "                      # -----------------------------------------\n",
    "                      m_engine=.0520159, #*kg,\n",
    "                      v_exhaust=5000, # * m/s,\n",
    "                      rho_fuel=1642.6, #*kg/m**3,\n",
    "                      engineSA=.00045234, #*m**2,\n",
    "                      burnRate=.001, #*m/s,   THIS USED TO READ 1 (mm) which I think was wrong\n",
    "                      \n",
    "                      )\n",
    "\n",
    "# Set initial conditions.  These conditions will be used in make_system to generate a system.\n",
    "\n",
    "condition2 = Condition(# Set cap for simulation time\n",
    "                      duration=105, #*s,\n",
    "                      \n",
    "                      # -----------------------------------------\n",
    "                      # Initial state and environmental properties\n",
    "                      # -----------------------------------------\n",
    "                      y=0, #*m, \n",
    "                      g=9.8, #*m/s**2,\n",
    "                      velocity=0, #*m/s,\n",
    "                      rho_air=1.2, #*kg/m**3,\n",
    "                      \n",
    "                      # -----------------------------------------\n",
    "                      # Properties of the rocket body\n",
    "                      # -----------------------------------------\n",
    "                      m_rocket=0.3, #*kg,\n",
    "                      diameter=4, #*cm, \n",
    "                      C_d=0.75, \n",
    "                      thetaCone=75,\n",
    "                      \n",
    "                      # -----------------------------------------\n",
    "                      # Properties of the engine and exhaust\n",
    "                      # -----------------------------------------\n",
    "                      m_engine=0, #*kg,\n",
    "                      v_exhaust=5000, # * m/s,\n",
    "                      rho_fuel=1642.6, #*gm/cm**3,\n",
    "                      engineSA=.00045234, #*m**2,\n",
    "                      burnRate=0.001, #*m/s,   THIS USED TO READ 1 (mm) which I think was wrong\n",
    "                      \n",
    "                      )"
   ]
  },
  {
   "cell_type": "markdown",
   "metadata": {},
   "source": [
    "Let's define a function to make systems for us.  This needs to copy certain parameters from the initial Condition object to the system and calculate the surface area of the rocket that will need to be accounted for in the drag calculation."
   ]
  },
  {
   "cell_type": "code",
   "execution_count": 4,
   "metadata": {
    "collapsed": true
   },
   "outputs": [],
   "source": [
    "# Takes in an initial condition and generates a full system\n",
    "\n",
    "def make_system(condition):\n",
    "    \n",
    "    unpack(condition)\n",
    "    \n",
    "    vy = velocity\n",
    "    init = State(m_engine=m_engine,y=y,vy=vy)\n",
    "    \n",
    "    #REDACTED TO DUE GUESS AND CHECK\n",
    "    #r = diameter/2\n",
    "    #h = r*math.tan(thetaCone)\n",
    "    #coneSA = 3.14159 * r * (r + sqrt(r*r + h*h))\n",
    "    \n",
    "    \n",
    "    coneSA = 0.0021\n",
    "    \n",
    "    ts = linspace(0,duration,101)\n",
    "    \n",
    "    return System(init=init,\n",
    "                  g=g,\n",
    "                  rho_air=rho_air,\n",
    "                  C_d=C_d,\n",
    "                  engineSA=engineSA,\n",
    "                  m_engine=m_engine,\n",
    "                  m_rocket=m_rocket,\n",
    "                  rho_fuel=rho_fuel,\n",
    "                  burnRate=burnRate,\n",
    "                  ts=ts,\n",
    "                  coneSA=coneSA,\n",
    "                  v_exhaust=v_exhaust)"
   ]
  },
  {
   "cell_type": "code",
   "execution_count": 5,
   "metadata": {
    "collapsed": true
   },
   "outputs": [],
   "source": [
    "# Takes in an initial condition and generates a full system\n",
    "\n",
    "def make_system2(condition2, t0):\n",
    "    \n",
    "    unpack(condition2)\n",
    "    vy = velocity\n",
    "    init = State(m_engine=m_engine,y=y,vy=vy)\n",
    "    \n",
    "    #REDACTED DUE TO GUESS AND CHECK\n",
    "    #r = diameter/2\n",
    "    #h = r*math.tan(thetaCone)\n",
    "    #coneSA = 3.14159 * r * (r + sqrt(r*r + h*h))\n",
    "    \n",
    "    coneSA = 0.0021\n",
    "    \n",
    "    ts = linspace(t0,duration,101)\n",
    "    \n",
    "    return System(init=init,\n",
    "                  g=g,\n",
    "                  rho_air=rho_air,\n",
    "                  C_d=C_d,\n",
    "                  engineSA=engineSA,\n",
    "                  m_rocket=m_rocket,\n",
    "                  m_engine=m_engine,\n",
    "                  ts=ts,\n",
    "                  coneSA=coneSA)"
   ]
  },
  {
   "cell_type": "code",
   "execution_count": 6,
   "metadata": {
    "collapsed": true
   },
   "outputs": [],
   "source": [
    "# Run this function UNTIL THE ENGINE RUNS OUT OF FUEL\n",
    "\n",
    "def slope_func1(state,t,system):\n",
    "    \n",
    "    unpack(system)\n",
    "        \n",
    "    # Grab the initial state of everything \n",
    "    m_engine, y, vy = state\n",
    "    \n",
    "    # Calculate m_dot\n",
    "    m_dot = -1 * rho_fuel * engineSA * burnRate\n",
    "    \n",
    "    m = m_rocket + m_engine\n",
    "    \n",
    "    if m_engine < 0:\n",
    "        m_dot = 0\n",
    "        m = m_rocket\n",
    "    \n",
    "    \n",
    "    # Calculate the acceleration due to drag\n",
    "    f_drag = rho_air * C_d * abs(vy) * vy * coneSA / 2\n",
    "    a_drag = f_drag / m\n",
    "    \n",
    "    f_engine = v_exhaust * -1 * m_dot\n",
    "    a_engine = f_engine / m\n",
    "    \n",
    "    ay = a_engine - g - a_drag\n",
    "    \n",
    "            \n",
    "    return m_dot, vy, ay"
   ]
  },
  {
   "cell_type": "code",
   "execution_count": 7,
   "metadata": {
    "collapsed": true
   },
   "outputs": [],
   "source": [
    "# Run this function AFTER THE ENGINE RUNS OUT OF FUEL\n",
    "\n",
    "def slope_func2(state,t,system):\n",
    "    \n",
    "    unpack(system)\n",
    "    \n",
    "    # Grab the initial state of everything\n",
    "    m_dot, y, vy = state\n",
    "    \n",
    "    # Calculate the acceleration due to drag\n",
    "    f_drag = rho_air * C_d * abs(vy) * vy * coneSA / 2\n",
    "    a_drag = f_drag / m_rocket\n",
    "    \n",
    "    # Calculate the net acceleration on the rocket\n",
    "    ay = -1 * g - a_drag\n",
    "    \n",
    "    m_dot = 0\n",
    "    \n",
    "    return m_dot, vy, ay"
   ]
  },
  {
   "cell_type": "code",
   "execution_count": 108,
   "metadata": {},
   "outputs": [
    {
     "name": "stdout",
     "output_type": "stream",
     "text": [
      "0.0     5.201590e-02\n",
      "0.8     5.137988e-02\n",
      "1.6     5.074386e-02\n",
      "2.4     5.010784e-02\n",
      "3.2     4.947182e-02\n",
      "4.0     4.883580e-02\n",
      "4.8     4.819978e-02\n",
      "5.6     4.756376e-02\n",
      "6.4     4.692774e-02\n",
      "7.2     4.629172e-02\n",
      "8.0     4.565570e-02\n",
      "8.8     4.501968e-02\n",
      "9.6     4.438366e-02\n",
      "10.4    4.374764e-02\n",
      "11.2    4.311162e-02\n",
      "12.0    4.247560e-02\n",
      "12.8    4.183958e-02\n",
      "13.6    4.120356e-02\n",
      "14.4    4.056755e-02\n",
      "15.2    3.993153e-02\n",
      "16.0    3.929551e-02\n",
      "16.8    3.865949e-02\n",
      "17.6    3.802347e-02\n",
      "18.4    3.738745e-02\n",
      "19.2    3.675143e-02\n",
      "20.0    3.611541e-02\n",
      "20.8    3.547939e-02\n",
      "21.6    3.484337e-02\n",
      "22.4    3.420735e-02\n",
      "23.2    3.357133e-02\n",
      "            ...     \n",
      "56.8    6.858500e-03\n",
      "57.6    6.222481e-03\n",
      "58.4    5.586461e-03\n",
      "59.2    4.950441e-03\n",
      "60.0    4.314421e-03\n",
      "60.8    3.678402e-03\n",
      "61.6    3.042382e-03\n",
      "62.4    2.406362e-03\n",
      "63.2    1.770343e-03\n",
      "64.0    1.134323e-03\n",
      "64.8    4.983032e-04\n",
      "65.6   -3.197302e-12\n",
      "66.4   -3.197302e-12\n",
      "67.2   -3.197302e-12\n",
      "68.0   -3.197302e-12\n",
      "68.8   -3.197302e-12\n",
      "69.6   -3.197302e-12\n",
      "70.4   -3.197302e-12\n",
      "71.2   -3.197302e-12\n",
      "72.0   -3.197302e-12\n",
      "72.8   -3.197302e-12\n",
      "73.6   -3.197302e-12\n",
      "74.4   -3.197302e-12\n",
      "75.2   -3.197302e-12\n",
      "76.0   -3.197302e-12\n",
      "76.8   -3.197302e-12\n",
      "77.6   -3.197302e-12\n",
      "78.4   -3.197302e-12\n",
      "79.2   -3.197302e-12\n",
      "80.0   -3.197302e-12\n",
      "Name: m_engine, Length: 101, dtype: float64\n"
     ]
    },
    {
     "data": {
      "image/png": "[encoded data removed]",
      "text/plain": [
       "<matplotlib.figure.Figure at 0x298c4e91978>"
      ]
     },
     "metadata": {},
     "output_type": "display_data"
    }
   ],
   "source": [
    "testCondition1 = condition\n",
    "testCondition1.duration = 80\n",
    "testCondition1.burnRate = 0.00107\n",
    "system = make_system(testCondition1)\n",
    "run_odeint(system,slope_func1)\n",
    "print(system.results.m_engine)\n",
    "\n",
    "plot(system.results.y)\n",
    "plot(system.results.vy)"
   ]
  },
  {
   "cell_type": "code",
   "execution_count": 49,
   "metadata": {},
   "outputs": [
    {
     "data": {
      "image/png": "[encoded data removed]",
      "text/plain": [
       "<matplotlib.figure.Figure at 0x298c34dfa58>"
      ]
     },
     "metadata": {},
     "output_type": "display_data"
    }
   ],
   "source": [
    "testCondition2 = condition2\n",
    "testCondition2.duration = 80\n",
    "\n",
    "system2 = make_system2(condition2, system.results.index[-1])\n",
    "\n",
    "system2.init.y = system.results.y.iloc[-1]\n",
    "system2.init.vy = system.results.vy.iloc[-1]\n",
    "system2.init.m_engine = 0\n",
    "\n",
    "run_odeint(system2,slope_func2)\n",
    "\n",
    "plot(system2.results.y)\n",
    "#plot(system2.results.vy)"
   ]
  },
  {
   "cell_type": "code",
   "execution_count": 13,
   "metadata": {
    "collapsed": true
   },
   "outputs": [],
   "source": [
    "#Takes everything above and rolls it together\n",
    "\n",
    "\"\"\"\n",
    "make this better\n",
    "\"\"\"\n",
    "\n",
    "def run_simulation(condition1, condition2, burn_rate, t_end=150, guess=80):\n",
    "    \n",
    "    #Runs the burn simulation initially\n",
    "    condition1.set(duration=guess)\n",
    "    \n",
    "    condition1.set(burnRate=burn_rate)\n",
    "    \n",
    "    system=make_system(condition1)\n",
    "    \n",
    "    run_odeint(system,slope_func1)\n",
    "    \n",
    "    \n",
    "    #Looks for the last time m_engine is positive\n",
    "    results1 = parse_data(system.results)\n",
    "    t_burnout = results1.index[-1]\n",
    "    \n",
    "    \n",
    "    #Interpolates Results\n",
    "    #Time = interp_inverse(system.results.m_engine)\n",
    "    #t_burnout = Time(0)\n",
    "    #print(t_burnout)\n",
    "    #t_series_burnout = find_nearest(system.results.index, t_burnout)\n",
    "    #results1 = system.results[:t_series_burnout]\n",
    "    \n",
    "    \n",
    "    #Runs second simulation\n",
    "    \n",
    "    system2 = make_system2(condition2, t_burnout)\n",
    "\n",
    "    system2.init.y = results1.y.iloc[-1]\n",
    "    system2.init.vy = results1.vy.iloc[-1]\n",
    "    system2.init.m_engine = 0\n",
    "    \n",
    "    \n",
    "    condition2.set(duration=t_end)\n",
    "    \n",
    "    run_odeint(system2, slope_func2)\n",
    "    \n",
    "    results2 = system2.results\n",
    "    \n",
    "    \n",
    "    \n",
    "    #Combines results\n",
    "    \n",
    "    results = [results1, results2]\n",
    "    \n",
    "    combined = pd.concat(results)\n",
    "    #print(combined.y.max())\n",
    "    return combined.y\n",
    "    #return combined.y.max()"
   ]
  },
  {
   "cell_type": "code",
   "execution_count": null,
   "metadata": {
    "collapsed": true
   },
   "outputs": [],
   "source": [
    "0.101007    1399.474050\n",
    "0.101342    1398.267574"
   ]
  },
  {
   "cell_type": "code",
   "execution_count": 14,
   "metadata": {},
   "outputs": [
    {
     "name": "stderr",
     "output_type": "stream",
     "text": [
      "C:\\ProgramData\\Miniconda3\\lib\\site-packages\\scipy\\integrate\\odepack.py:218: ODEintWarning: Excess work done on this call (perhaps wrong Dfun type). Run with full_output = 1 to get quantitative information.\n",
      "  warnings.warn(warning_msg, ODEintWarning)\n"
     ]
    }
   ],
   "source": [
    "stuff = run_simulation(condition, condition2, 0.0018888888888)\n",
    "plot(stuff)\n",
    "label_axes(xlabel='Time (s)', ylabel='Height (m)', title='Trajectory of Best Burnrate')"
   ]
  },
  {
   "cell_type": "code",
   "execution_count": 9,
   "metadata": {
    "collapsed": true
   },
   "outputs": [],
   "source": [
    "def sweep_burns(sweep_array):\n",
    "    sweep = SweepSeries()\n",
    "    for rate in burn_array:\n",
    "        sweep[rate] = run_simulation(condition, condition2, rate)\n",
    "    return sweep"
   ]
  },
  {
   "cell_type": "code",
   "execution_count": 10,
   "metadata": {},
   "outputs": [
    {
     "name": "stderr",
     "output_type": "stream",
     "text": [
      "C:\\ProgramData\\Miniconda3\\lib\\site-packages\\scipy\\integrate\\odepack.py:218: ODEintWarning: Excess work done on this call (perhaps wrong Dfun type). Run with full_output = 1 to get quantitative information.\n",
      "  warnings.warn(warning_msg, ODEintWarning)\n"
     ]
    },
    {
     "name": "stdout",
     "output_type": "stream",
     "text": [
      "Best Height was 2229.72622233 meters with a burn rate of 0.188888888889 cm/s\n"
     ]
    }
   ],
   "source": [
    "burn_array = linspace(0.001, 0.005, 100)\n",
    "please = sweep_burns(burn_array)\n",
    "please.index = please.index * 100\n",
    "\n",
    "#print(please)\n",
    "plot(please)\n",
    "label_axes(xlabel='Burn Rate (cm/s)', ylabel='Max Height (m)', title='Maximum Height using Various Burn Rates')\n",
    "\n",
    "best = please.max()\n",
    "print(\"Best Height was\", best, \"meters with a burn rate of\", please.idxmax(), \"cm/s\")"
   ]
  },
  {
   "cell_type": "code",
   "execution_count": 25,
   "metadata": {
    "collapsed": true
   },
   "outputs": [],
   "source": []
  },
  {
   "cell_type": "code",
   "execution_count": null,
   "metadata": {
    "collapsed": true
   },
   "outputs": [],
   "source": []
  },
  {
   "cell_type": "code",
   "execution_count": null,
   "metadata": {
    "collapsed": true
   },
   "outputs": [],
   "source": []
  },
  {
   "cell_type": "code",
   "execution_count": null,
   "metadata": {
    "collapsed": true
   },
   "outputs": [],
   "source": []
  },
  {
   "cell_type": "code",
   "execution_count": null,
   "metadata": {
    "collapsed": true
   },
   "outputs": [],
   "source": []
  },
  {
   "cell_type": "code",
   "execution_count": 134,
   "metadata": {
    "collapsed": true
   },
   "outputs": [],
   "source": [
    "# Set initial conditions NOTE: FOR ESTES ENGINE TO DETERMINE DRAG.  These conditions will be used in make_system to generate a system.\n",
    "\n",
    "condition = Condition(# Set cap for simulation time\n",
    "                      duration=105, #*s,\n",
    "                      \n",
    "                      # -----------------------------------------\n",
    "                      # Initial state and environmental properties\n",
    "                      # -----------------------------------------\n",
    "                      y=0, #*m, \n",
    "                      g=9.8, #*m/s**2,\n",
    "                      velocity=0, #*m/s,\n",
    "                      rho_air=1.2, #*kg/m**3,\n",
    "                      \n",
    "                      # -----------------------------------------\n",
    "                      # Properties of the rocket body\n",
    "                      # -----------------------------------------\n",
    "                      m_rocket=40, #*gm,\n",
    "                      diameter=2.5, #*cm, \n",
    "                      C_d=0.75, \n",
    "                      thetaCone=85,\n",
    "                      \n",
    "                      # -----------------------------------------\n",
    "                      # Properties of the engine and exhaust\n",
    "                      # -----------------------------------------\n",
    "                      m_engine=10.8, #*gm,\n",
    "                      v_exhaust=5000, # * m/s,\n",
    "                      rho_fuel=1.7, #*gm/cm**3,\n",
    "                      engineSA=5.76, #*cm**2,\n",
    "                      burnRate=0.4, #*cm/s,   THIS USED TO READ 1 (mm) which I think was wrong\n",
    "                      \n",
    "                      )\n",
    "\n",
    "# Set initial conditions.  These conditions will be used in make_system to generate a system.\n",
    "\n",
    "condition2 = Condition(# Set cap for simulation time\n",
    "                      duration=105, #*s,\n",
    "                      \n",
    "                      # -----------------------------------------\n",
    "                      # Initial state and environmental properties\n",
    "                      # -----------------------------------------\n",
    "                      y=0, #*m, \n",
    "                      g=9.8, #*m/s**2,\n",
    "                      velocity=0, #*m/s,\n",
    "                      rho_air=1.2, #*kg/m**3,\n",
    "                      \n",
    "                      # -----------------------------------------\n",
    "                      # Properties of the rocket body\n",
    "                      # -----------------------------------------\n",
    "                      m_rocket=40, #*gm,\n",
    "                      diameter=2.5, #*cm, \n",
    "                      C_d=0.75, \n",
    "                      thetaCone=85,\n",
    "                      \n",
    "                      # -----------------------------------------\n",
    "                      # Properties of the engine and exhaust\n",
    "                      # -----------------------------------------\n",
    "                      m_engine=0, #*gm,\n",
    "                      v_exhaust=5000, # * m/s,\n",
    "                      rho_fuel=1.6426, #*gm/cm**3,\n",
    "                      engineSA=4.5234, #*cm**2,\n",
    "                      burnRate=0.1, #*cm/s,   THIS USED TO READ 1 (mm) which I think was wrong\n",
    "                      \n",
    "                      )"
   ]
  }
 ],
 "metadata": {
  "kernelspec": {
   "display_name": "Python 3",
   "language": "python",
   "name": "python3"
  },
  "language_info": {
   "codemirror_mode": {
    "name": "ipython",
    "version": 3
   },
   "file_extension": ".py",
   "mimetype": "text/x-python",
   "name": "python",
   "nbconvert_exporter": "python",
   "pygments_lexer": "ipython3",
   "version": "3.6.1"
  }
 },
 "nbformat": 4,
 "nbformat_minor": 2
}
